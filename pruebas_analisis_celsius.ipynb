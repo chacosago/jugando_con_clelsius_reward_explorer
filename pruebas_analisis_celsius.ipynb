{
 "cells": [
  {
   "cell_type": "code",
   "execution_count": 1,
   "id": "bce57d10",
   "metadata": {},
   "outputs": [],
   "source": [
    "import json\n",
    "import os\n",
    "\n",
    "#os.chdir(\"/home/hcastorp/Escritorio/proyecto celsius\")"
   ]
  },
  {
   "cell_type": "code",
   "execution_count": 2,
   "id": "dec52bfb",
   "metadata": {},
   "outputs": [],
   "source": [
    "with open(\"celsius_proof_of_community_18.6.21-25.6.21.json\",\"r\") as archivo :\n",
    "    datos_l = json.load(archivo)"
   ]
  },
  {
   "cell_type": "code",
   "execution_count": 3,
   "id": "90fbea27",
   "metadata": {},
   "outputs": [
    {
     "data": {
      "text/plain": [
       "dict_keys(['BNT', 'BTC', 'BUSD', 'CEL', 'EOS', 'ETC', 'ETH', 'LINK', 'MATIC', 'USDC', 'tx'])"
      ]
     },
     "execution_count": 3,
     "metadata": {},
     "output_type": "execute_result"
    }
   ],
   "source": [
    "datos_l[0].keys()"
   ]
  },
  {
   "cell_type": "code",
   "execution_count": 4,
   "id": "d87ae679",
   "metadata": {},
   "outputs": [
    {
     "data": {
      "text/plain": [
       "dict_keys(['interestCoin', 'totalInterestInCoin', 'totalInterestInUsd', 'distributionRuleUsed', 'interest_on_first_n_coins', 'earningInterestInCel', 'loyaltyTier', 'distributionData', 'originalInterestCoin', 'totalInterestInOriginalInterestCoin'])"
      ]
     },
     "execution_count": 4,
     "metadata": {},
     "output_type": "execute_result"
    }
   ],
   "source": [
    "datos_l[0][\"BTC\"].keys()"
   ]
  },
  {
   "cell_type": "code",
   "execution_count": 5,
   "id": "adc6f4e1",
   "metadata": {},
   "outputs": [
    {
     "data": {
      "text/plain": [
       "'CEL'"
      ]
     },
     "execution_count": 5,
     "metadata": {},
     "output_type": "execute_result"
    }
   ],
   "source": [
    "# moneda de cobro de los intereses\n",
    "datos_l[0][\"BTC\"][\"interestCoin\"]"
   ]
  },
  {
   "cell_type": "code",
   "execution_count": 6,
   "id": "f3b0a645",
   "metadata": {},
   "outputs": [
    {
     "data": {
      "text/plain": [
       "'0.005354308044971026'"
      ]
     },
     "execution_count": 6,
     "metadata": {},
     "output_type": "execute_result"
    }
   ],
   "source": [
    "# cantida de monedas a recibir en CEL\n",
    "datos_l[0][\"BTC\"][\"totalInterestInCoin\"]"
   ]
  },
  {
   "cell_type": "code",
   "execution_count": 7,
   "id": "ec3b9bab",
   "metadata": {},
   "outputs": [
    {
     "data": {
      "text/plain": [
       "'0.000000893883280303'"
      ]
     },
     "execution_count": 7,
     "metadata": {},
     "output_type": "execute_result"
    }
   ],
   "source": [
    "# la cantidad de monedas de origen a cobrar por intereses\n",
    "datos_l[0][\"BTC\"][\"totalInterestInOriginalInterestCoin\"]"
   ]
  },
  {
   "cell_type": "code",
   "execution_count": 8,
   "id": "a168bdcd",
   "metadata": {},
   "outputs": [
    {
     "data": {
      "text/plain": [
       "'0.0310815277202119747378880199956'"
      ]
     },
     "execution_count": 8,
     "metadata": {},
     "output_type": "execute_result"
    }
   ],
   "source": [
    "# el valor en USD de los intereses a cobrar\n",
    "datos_l[0][\"BTC\"][\"totalInterestInUsd\"]"
   ]
  },
  {
   "cell_type": "code",
   "execution_count": 9,
   "id": "5d952d07",
   "metadata": {},
   "outputs": [
    {
     "data": {
      "text/plain": [
       "[{'type': 'initialBalance',\n",
       "  'dateCoefficient': '0.01923076923076923077',\n",
       "  'date': '2021-06-18T05:00:00.000Z',\n",
       "  'value': '0.001077841868422931',\n",
       "  'newBalance': '0.001077841868422931',\n",
       "  'originalInterestCoin': None,\n",
       "  'regInterestRateBasis': '0.001077841868422931',\n",
       "  'regInterestRateAmount': '7.15106624242136913490142726508147015e-7',\n",
       "  'specInterestRateBasis': '0',\n",
       "  'specInterestRateAmount': '0',\n",
       "  'totalInterest': '7.15106624242136913490142726508147015e-7',\n",
       "  'threshold': '0'}]"
      ]
     },
     "execution_count": 9,
     "metadata": {},
     "output_type": "execute_result"
    }
   ],
   "source": [
    "datos_l[0][\"BTC\"][\"distributionData\"]"
   ]
  },
  {
   "cell_type": "code",
   "execution_count": 10,
   "id": "f74a0041",
   "metadata": {},
   "outputs": [
    {
     "data": {
      "text/plain": [
       "'0.000562241833986518'"
      ]
     },
     "execution_count": 10,
     "metadata": {},
     "output_type": "execute_result"
    }
   ],
   "source": [
    "datos_l[1][\"BTC\"][\"distributionData\"][0][\"value\"]"
   ]
  },
  {
   "cell_type": "code",
   "execution_count": 14,
   "id": "424e4683",
   "metadata": {
    "scrolled": true
   },
   "outputs": [],
   "source": [
    "# con esto me encuentro a mi basado en los datos que sé que cobré.\n",
    "seleccionadas_l =[]\n",
    "cont = 0\n",
    "with open(\"datos_facu.txt\", \"r\") as facu:\n",
    "    datos_facu = json.load(facu)\n",
    "\n",
    "for i in datos_l :\n",
    "    # sé que tengo estas moendas en estas cantidades\n",
    "    if len(i.keys()) == 5 and \"BTC\" in i.keys() and \"ETH\" in i.keys() and \"MCDAI\" in i.keys() and \"CEL\" in i.keys():\n",
    "        cont += 1\n",
    "        \n",
    "        # me encuentro a mí basado en los saldos de la 4 coins que se que tengo.\n",
    "        # son 4 formas de hacer lo mismo\n",
    "        \n",
    "        if float(i[\"BTC\"][\"totalInterestInCoin\"][:6]) == datos_facu[\"BTC\"] :\n",
    "            seleccionadas_l.append(i)\n",
    "        \n",
    "        if float(i[\"ETH\"][\"totalInterestInCoin\"][:6]) == datos_facu[\"ETH\"] :\n",
    "            seleccionadas_l.append(i)\n",
    "            \n",
    "        if float(i[\"CEL\"][\"totalInterestInCoin\"][:6]) == datos_facu[\"CEL\"] :\n",
    "            seleccionadas_l.append(i)\n",
    "            \n",
    "            \n",
    "        if float(i[\"MCDAI\"][\"totalInterestInCoin\"][:12]) == datos_facu[\"MCDAI\"] :\n",
    "            seleccionadas_l.append(i)\n",
    "\n",
    "mis_datos = seleccionadas_l[0]"
   ]
  },
  {
   "cell_type": "code",
   "execution_count": 15,
   "id": "939a1663",
   "metadata": {},
   "outputs": [
    {
     "name": "stdout",
     "output_type": "stream",
     "text": [
      "{'BTC': {'interestCoin': 'CEL', 'totalInterestInCoin': '2.152345830522442090', 'totalInterestInUsd': '12.494274896585252028874024796954', 'distributionRuleUsed': 'InterestWithThreshold_FirstNCoins', 'interest_on_first_n_coins': '0.00035932672068433239514898845344275791119', 'earningInterestInCel': True, 'loyaltyTier': {'title': 'NONE', 'level': 0, 'minimum_cel_percentage': '0', 'maximum_cel_percentage': '0.05', 'interest_bonus': '0', 'loan_interest_bonus': '0.05'}, 'distributionData': [{'type': 'initialBalance', 'dateCoefficient': '0.01923076923076923077', 'date': '2021-06-18T05:00:00.000Z', 'value': '0.541593897843051726', 'newBalance': '0.541593897843051726', 'originalInterestCoin': None, 'regInterestRateBasis': '0.541593897843051726', 'regInterestRateAmount': '0.00035932672068433239514898845344275791119', 'specInterestRateBasis': '0', 'specInterestRateAmount': '0', 'totalInterest': '0.00035932672068433239514898845344275791119', 'threshold': '0'}], 'originalInterestCoin': 'BTC', 'totalInterestInOriginalInterestCoin': '0.000359326720684332'}, 'CEL': {'interestCoin': 'CEL', 'totalInterestInCoin': '0.015311618320103884', 'totalInterestInUsd': '0.0888832852462805367808149032504', 'distributionRuleUsed': 'InterestRegular', 'interest_on_first_n_coins': '0.01531161832010388440935473432157490894675', 'earningInterestInCel': False, 'loyaltyTier': {'title': 'NONE', 'level': 0, 'minimum_cel_percentage': '0', 'maximum_cel_percentage': '0.05', 'interest_bonus': '0', 'loan_interest_bonus': '0.05'}, 'distributionData': [{'type': 'initialBalance', 'dateCoefficient': '0.01923076923076923077', 'date': '2021-06-18T05:00:00.000Z', 'value': '13.923458766888891602', 'newBalance': '13.923458766888891602', 'originalInterestCoin': None, 'regInterestRateBasis': '13.923458766888891602', 'regInterestRateAmount': '0.01271854406590812213695104945494401719315', 'totalInterest': '0.01271854406590812213695104945494401719315'}, {'type': 'interest', 'dateCoefficient': '0.01923070563695563696', 'date': '2021-06-18T05:00:01.000Z', 'value': '0.785450470936172784', 'newBalance': '14.708909237825064386', 'originalInterestCoin': 'ETH', 'regInterestRateBasis': '0.785450470936172784', 'regInterestRateAmount': '0.0007174764229516315885561945990234835904', 'totalInterest': '0.0007174764229516315885561945990234835904'}, {'type': 'interest', 'dateCoefficient': '0.01923070563695563696', 'date': '2021-06-18T05:00:01.000Z', 'value': '0.012718536039307018', 'newBalance': '14.721627773864371404', 'originalInterestCoin': 'CEL', 'regInterestRateBasis': '0.012718536039307018', 'regInterestRateAmount': '0.0000116178550784839323559023442414388008', 'totalInterest': '0.0000116178550784839323559023442414388008'}, {'type': 'interest', 'dateCoefficient': '0.01923070563695563696', 'date': '2021-06-18T05:00:01.000Z', 'value': '2.040574300785912654', 'newBalance': '16.762202074650284058', 'originalInterestCoin': 'BTC', 'regInterestRateBasis': '2.040574300785912654', 'regInterestRateAmount': '0.0018639799761656467514915879233659693624', 'totalInterest': '0.0018639799761656467514915879233659693624'}]}, 'ETH': {'interestCoin': 'CEL', 'totalInterestInCoin': '0.760571304058885853', 'totalInterestInUsd': '4.4150836806088084701746622544018', 'distributionRuleUsed': 'InterestWithThreshold_FirstNCoins', 'interest_on_first_n_coins': '0.002227169134798076923166009842315', 'earningInterestInCel': True, 'loyaltyTier': {'title': 'NONE', 'level': 0, 'minimum_cel_percentage': '0', 'maximum_cel_percentage': '0.05', 'interest_bonus': '0', 'loan_interest_bonus': '0.05'}, 'distributionData': [{'type': 'initialBalance', 'dateCoefficient': '0.01923076923076923077', 'date': '2021-06-18T05:00:00.000Z', 'value': '2.349143915', 'newBalance': '2.349143915', 'originalInterestCoin': None, 'regInterestRateBasis': '2.349143915', 'regInterestRateAmount': '0.002227169134798076923166009842315', 'specInterestRateBasis': '0', 'specInterestRateAmount': '0', 'totalInterest': '0.002227169134798076923166009842315', 'threshold': '0'}], 'originalInterestCoin': 'ETH', 'totalInterestInOriginalInterestCoin': '0.002227169134798077'}, 'MCDAI': {'interestCoin': 'MCDAI', 'totalInterestInCoin': '0.026304851406059129', 'totalInterestInUsd': '0.026304851406059129', 'distributionRuleUsed': 'InterestRegular', 'interest_on_first_n_coins': '0.02630485140605912901205508512623320595375', 'earningInterestInCel': False, 'loyaltyTier': {'title': 'NONE', 'level': 0, 'minimum_cel_percentage': '0', 'maximum_cel_percentage': '0.05', 'interest_bonus': '0', 'loan_interest_bonus': '0.05'}, 'distributionData': [{'type': 'initialBalance', 'dateCoefficient': '0.01923076923076923077', 'date': '2021-06-18T05:00:00.000Z', 'value': '30.370435159971895295', 'newBalance': '30.370435159971895295', 'originalInterestCoin': None, 'regInterestRateBasis': '30.370435159971895295', 'regInterestRateAmount': '0.02628210734997567862172436121707595022175', 'totalInterest': '0.02628210734997567862172436121707595022175'}, {'type': 'interest', 'dateCoefficient': '0.01923070563695563696', 'date': '2021-06-18T05:00:01.000Z', 'value': '0.026282107274828635', 'newBalance': '30.39671726724672393', 'originalInterestCoin': 'MCDAI', 'regInterestRateBasis': '0.026282107274828635', 'regInterestRateAmount': '0.000022744056083450390330723909157255732', 'totalInterest': '0.000022744056083450390330723909157255732'}], 'earningInCelUsd': '0.02630485140605912901205508512623320595375'}, 'tx': 'fd6176a2-4c44-4840-b6ab-fe208d224fdc'}\n"
     ]
    }
   ],
   "source": []
  }
 ],
 "metadata": {
  "kernelspec": {
   "display_name": "Python 3",
   "language": "python",
   "name": "python3"
  },
  "language_info": {
   "codemirror_mode": {
    "name": "ipython",
    "version": 3
   },
   "file_extension": ".py",
   "mimetype": "text/x-python",
   "name": "python",
   "nbconvert_exporter": "python",
   "pygments_lexer": "ipython3",
   "version": "3.8.10"
  }
 },
 "nbformat": 4,
 "nbformat_minor": 5
}
