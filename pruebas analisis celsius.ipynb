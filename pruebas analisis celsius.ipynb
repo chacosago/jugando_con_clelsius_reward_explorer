{
 "cells": [
  {
   "cell_type": "code",
   "execution_count": 1,
   "id": "bce57d10",
   "metadata": {},
   "outputs": [],
   "source": [
    "import json\n",
    "import os\n",
    "\n",
    "#os.chdir(\"/home/hcastorp/Escritorio/proyecto celsius\")"
   ]
  },
  {
   "cell_type": "code",
   "execution_count": 2,
   "id": "dec52bfb",
   "metadata": {},
   "outputs": [],
   "source": [
    "with open(\"celsius_proof_of_community_18.6.21-25.6.21.json\",\"r\") as archivo :\n",
    "    datos_l = json.load(archivo)"
   ]
  },
  {
   "cell_type": "code",
   "execution_count": 3,
   "id": "90fbea27",
   "metadata": {},
   "outputs": [
    {
     "data": {
      "text/plain": [
       "dict_keys(['BNT', 'BTC', 'BUSD', 'CEL', 'EOS', 'ETC', 'ETH', 'LINK', 'MATIC', 'USDC', 'tx'])"
      ]
     },
     "execution_count": 3,
     "metadata": {},
     "output_type": "execute_result"
    }
   ],
   "source": [
    "datos_l[0].keys()"
   ]
  },
  {
   "cell_type": "code",
   "execution_count": 4,
   "id": "d87ae679",
   "metadata": {},
   "outputs": [
    {
     "data": {
      "text/plain": [
       "dict_keys(['interestCoin', 'totalInterestInCoin', 'totalInterestInUsd', 'distributionRuleUsed', 'interest_on_first_n_coins', 'earningInterestInCel', 'loyaltyTier', 'distributionData', 'originalInterestCoin', 'totalInterestInOriginalInterestCoin'])"
      ]
     },
     "execution_count": 4,
     "metadata": {},
     "output_type": "execute_result"
    }
   ],
   "source": [
    "datos_l[0][\"BTC\"].keys()"
   ]
  },
  {
   "cell_type": "code",
   "execution_count": 5,
   "id": "adc6f4e1",
   "metadata": {},
   "outputs": [
    {
     "data": {
      "text/plain": [
       "'CEL'"
      ]
     },
     "execution_count": 5,
     "metadata": {},
     "output_type": "execute_result"
    }
   ],
   "source": [
    "# moneda de cobro de los intereses\n",
    "datos_l[0][\"BTC\"][\"interestCoin\"]"
   ]
  },
  {
   "cell_type": "code",
   "execution_count": 6,
   "id": "f3b0a645",
   "metadata": {},
   "outputs": [
    {
     "data": {
      "text/plain": [
       "'0.005354308044971026'"
      ]
     },
     "execution_count": 6,
     "metadata": {},
     "output_type": "execute_result"
    }
   ],
   "source": [
    "# cantida de monedas a recibir en CEL\n",
    "datos_l[0][\"BTC\"][\"totalInterestInCoin\"]"
   ]
  },
  {
   "cell_type": "code",
   "execution_count": 7,
   "id": "ec3b9bab",
   "metadata": {},
   "outputs": [
    {
     "data": {
      "text/plain": [
       "'0.000000893883280303'"
      ]
     },
     "execution_count": 7,
     "metadata": {},
     "output_type": "execute_result"
    }
   ],
   "source": [
    "# la cantidad de monedas de origen a cobrar por intereses\n",
    "datos_l[0][\"BTC\"][\"totalInterestInOriginalInterestCoin\"]"
   ]
  },
  {
   "cell_type": "code",
   "execution_count": 8,
   "id": "a168bdcd",
   "metadata": {},
   "outputs": [
    {
     "data": {
      "text/plain": [
       "'0.0310815277202119747378880199956'"
      ]
     },
     "execution_count": 8,
     "metadata": {},
     "output_type": "execute_result"
    }
   ],
   "source": [
    "# el valor en USD de los intereses a cobrar\n",
    "datos_l[0][\"BTC\"][\"totalInterestInUsd\"]"
   ]
  },
  {
   "cell_type": "code",
   "execution_count": 9,
   "id": "5d952d07",
   "metadata": {},
   "outputs": [
    {
     "data": {
      "text/plain": [
       "[{'type': 'initialBalance',\n",
       "  'dateCoefficient': '0.01923076923076923077',\n",
       "  'date': '2021-06-18T05:00:00.000Z',\n",
       "  'value': '0.001077841868422931',\n",
       "  'newBalance': '0.001077841868422931',\n",
       "  'originalInterestCoin': None,\n",
       "  'regInterestRateBasis': '0.001077841868422931',\n",
       "  'regInterestRateAmount': '7.15106624242136913490142726508147015e-7',\n",
       "  'specInterestRateBasis': '0',\n",
       "  'specInterestRateAmount': '0',\n",
       "  'totalInterest': '7.15106624242136913490142726508147015e-7',\n",
       "  'threshold': '0'}]"
      ]
     },
     "execution_count": 9,
     "metadata": {},
     "output_type": "execute_result"
    }
   ],
   "source": [
    "datos_l[0][\"BTC\"][\"distributionData\"]"
   ]
  },
  {
   "cell_type": "code",
   "execution_count": 10,
   "id": "f74a0041",
   "metadata": {},
   "outputs": [
    {
     "data": {
      "text/plain": [
       "'0.000562241833986518'"
      ]
     },
     "execution_count": 10,
     "metadata": {},
     "output_type": "execute_result"
    }
   ],
   "source": [
    "datos_l[1][\"BTC\"][\"distributionData\"][0][\"value\"]"
   ]
  },
  {
   "cell_type": "code",
   "execution_count": 13,
   "id": "424e4683",
   "metadata": {
    "scrolled": true
   },
   "outputs": [],
   "source": [
    "# con esto me encuentro a mi basado en los datos que sé que cobré.\n",
    "seleccionadas_l =[]\n",
    "cont = 0\n",
    "with open(\"datos_facu.txt\", \"r\") as facu:\n",
    "    datos_facu = json.load(facu)\n",
    "\n",
    "for i in datos_l :\n",
    "    # sé que tengo estas moendas en estas cantidades\n",
    "    if len(i.keys()) == 5 and \"BTC\" in i.keys() and \"ETH\" in i.keys() and \"MCDAI\" in i.keys() and \"CEL\" in i.keys():\n",
    "        cont += 1\n",
    "        \n",
    "        # me encuentro a mí basado en los saldos de la 4 coins que se que tengo.\n",
    "        # son 4 formas de hacer lo mismo\n",
    "        \n",
    "        if float(i[\"BTC\"][\"totalInterestInCoin\"][:6]) == datos_facu[\"BTC\"] :\n",
    "            seleccionadas_l.append(i)\n",
    "        \n",
    "        if float(i[\"ETH\"][\"totalInterestInCoin\"][:6]) == datos_facu[\"ETH\"] :\n",
    "            seleccionadas_l.append(i)\n",
    "            \n",
    "        if float(i[\"CEL\"][\"totalInterestInCoin\"][:6]) == datos_facu[\"CEL\"] :\n",
    "            seleccionadas_l.append(i)\n",
    "            \n",
    "            \n",
    "        if float(i[\"MCDAI\"][\"totalInterestInCoin\"][:12]) == datos_facu[\"MCDAI\"] :\n",
    "            seleccionadas_l.append(i)\n",
    "\n"
   ]
  },
  {
   "cell_type": "code",
   "execution_count": null,
   "id": "f6ec5a21",
   "metadata": {},
   "outputs": [],
   "source": []
  }
 ],
 "metadata": {
  "kernelspec": {
   "display_name": "Python 3",
   "language": "python",
   "name": "python3"
  },
  "language_info": {
   "codemirror_mode": {
    "name": "ipython",
    "version": 3
   },
   "file_extension": ".py",
   "mimetype": "text/x-python",
   "name": "python",
   "nbconvert_exporter": "python",
   "pygments_lexer": "ipython3",
   "version": "3.8.10"
  }
 },
 "nbformat": 4,
 "nbformat_minor": 5
}
